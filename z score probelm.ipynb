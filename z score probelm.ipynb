{
 "cells": [
  {
   "cell_type": "code",
   "execution_count": 18,
   "metadata": {},
   "outputs": [
    {
     "name": "stdout",
     "output_type": "stream",
     "text": [
      "z value for area is =-1.6449\n",
      " the area is 0.9750021\n"
     ]
    }
   ],
   "source": [
    "import numpy             as np\n",
    "import pandas            as pd\n",
    "import scipy.stats       as stats\n",
    "import matplotlib.pyplot as plt\n",
    "P = stats.norm.isf(q = .975,loc=0,scale=1)# to calculate z score of 95% refer notes and left z table\n",
    "print(\"z value for area is =%.4f\" % P)\n",
    "# b) What proportion of customers are spending less than 20 minutes?\n",
    "z1  =  (1.96 - 0) / 1 # X = 20\n",
    "P   =  stats.norm.cdf(z1)\n",
    "print(' the area is %1.7f' % P)\n"
   ]
  },
  {
   "cell_type": "code",
   "execution_count": 32,
   "metadata": {},
   "outputs": [
    {
     "name": "stdout",
     "output_type": "stream",
     "text": [
      "z value for area is =93.4206\n",
      " the area is 0.006209665\n"
     ]
    }
   ],
   "source": [
    "P = stats.norm.isf(q = .95,loc=100,scale=4)# to calculate z score of 95% refer notes and left z table\n",
    "print(\"z value for area is =%.4f\" % P)\n",
    "# b) What proportion of customers are spending less than 20 minutes?\n",
    "z1  =  (110 - 100) / 4\n",
    "# X = 20\n",
    "P   =  1-stats.norm.cdf(z1)\n",
    "print(' the area is %1.9f' % P)"
   ]
  },
  {
   "cell_type": "code",
   "execution_count": 57,
   "metadata": {},
   "outputs": [
    {
     "name": "stdout",
     "output_type": "stream",
     "text": [
      "z value for area is =4.8355\n",
      " the area is  2.1602315269930727e-08\n"
     ]
    }
   ],
   "source": [
    "#for hypothesis testing\n",
    "P = stats.norm.isf(q = .95,loc=5,scale=.1)# to calculate z score of 95% refer notes and left z table\n",
    "print(\"z value for area is =%.4f\" % P)\n",
    "# b) What proportion of customers are spending less than 20 minutes?\n",
    "z1  =  (5.1 -5 ) / (.1/np.sqrt(30))\n",
    "# X = 20\n",
    "P   =  1-stats.norm.cdf(z1)\n",
    "print(' the area is ' ,P)# the value willbe very rare"
   ]
  },
  {
   "cell_type": "code",
   "execution_count": 63,
   "metadata": {},
   "outputs": [
    {
     "name": "stdout",
     "output_type": "stream",
     "text": [
      "pr= -3.2905267314919255\n"
     ]
    }
   ],
   "source": [
    "p = stats.norm.isf(q = .9995,loc=0,scale=1)# to calculate z score of 95% refer notes and left z table\n",
    "print('pr=',p)"
   ]
  },
  {
   "cell_type": "code",
   "execution_count": null,
   "metadata": {},
   "outputs": [],
   "source": []
  }
 ],
 "metadata": {
  "kernelspec": {
   "display_name": "Python 3",
   "language": "python",
   "name": "python3"
  },
  "language_info": {
   "codemirror_mode": {
    "name": "ipython",
    "version": 3
   },
   "file_extension": ".py",
   "mimetype": "text/x-python",
   "name": "python",
   "nbconvert_exporter": "python",
   "pygments_lexer": "ipython3",
   "version": "3.7.0"
  }
 },
 "nbformat": 4,
 "nbformat_minor": 2
}
