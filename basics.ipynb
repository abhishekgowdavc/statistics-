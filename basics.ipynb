{
 "cells": [
  {
   "cell_type": "code",
   "execution_count": 1,
   "metadata": {},
   "outputs": [],
   "source": [
    "import numpy as np\n",
    "import pandas as pd\n",
    "import scipy.stats as stats\n",
    "import matplotlib.pyplot as plt\n",
    "from    scipy.stats             import  ttest_1samp,ttest_ind, wilcoxon, ttest_ind_from_stats\n",
    "import  scipy.stats             as      stats  \n",
    "from    statsmodels.stats.power import  ttest_power\n",
    "import  matplotlib.pyplot       as      plt"
   ]
  },
  {
   "cell_type": "code",
   "execution_count": 2,
   "metadata": {},
   "outputs": [],
   "source": [
    "a=np.array([9.66, 5.90, 8.02, 5.79, 8.73, 3.82, 8.01, 8.35, 10.49, 6.68, 5.64, 4.08, 6.17, 9.91, 5.47])"
   ]
  },
  {
   "cell_type": "code",
   "execution_count": 11,
   "metadata": {},
   "outputs": [
    {
     "name": "stdout",
     "output_type": "stream",
     "text": [
      "median= 6.68\n",
      "mean= 7.114666666666666\n",
      "variance= 4.335512380952381\n",
      "range1= 6.67\n",
      "std= 2.0821893239934695\n"
     ]
    }
   ],
   "source": [
    "median=np.median(a)\n",
    "mean=np.mean(a)\n",
    "std=np.std(a,ddof=1)\n",
    "variance=np.var(a,ddof=1)\n",
    "range1=np.max(a)-np.min(a)\n",
    "print('median=',median)\n",
    "print('mean=',mean)\n",
    "print('variance=',variance)\n",
    "print('range1=',range1)\n",
    "print('std=',std)"
   ]
  },
  {
   "cell_type": "code",
   "execution_count": 14,
   "metadata": {},
   "outputs": [
    {
     "name": "stdout",
     "output_type": "stream",
     "text": [
      "1.2224312669376254\n",
      "-0.5833603374437794\n",
      "0.43479875864360806\n",
      "-0.636189347146427\n",
      "0.7757860030879695\n",
      "-1.5823088845483866\n",
      "0.42999612139791293\n",
      "0.5932857877515506\n",
      "1.6210501583303292\n",
      "-0.2087546322795521\n",
      "-0.7082289058318556\n",
      "-1.4574403161603107\n",
      "-0.4536891318100085\n",
      "1.342497198080006\n",
      "-0.7898737390086744\n"
     ]
    }
   ],
   "source": [
    "a=list(a)\n",
    "mu=5\n",
    "for x in a:\n",
    "    z=(x-mean)/std\n",
    "    print(z)"
   ]
  },
  {
   "cell_type": "code",
   "execution_count": 16,
   "metadata": {},
   "outputs": [
    {
     "data": {
      "image/png": "[encoded data removed]",
      "text/plain": [
       "<Figure size 432x288 with 1 Axes>"
      ]
     },
     "metadata": {
      "needs_background": "light"
     },
     "output_type": "display_data"
    }
   ],
   "source": [
    "plt.boxplot(a)\n",
    "plt.show()"
   ]
  },
  {
   "cell_type": "code",
   "execution_count": 20,
   "metadata": {},
   "outputs": [
    {
     "data": {
      "image/png": "[encoded data removed]",
      "text/plain": [
       "<Figure size 432x288 with 1 Axes>"
      ]
     },
     "metadata": {
      "needs_background": "light"
     },
     "output_type": "display_data"
    }
   ],
   "source": [
    "plt.hist(a)\n",
    "plt.show()"
   ]
  },
  {
   "cell_type": "markdown",
   "metadata": {},
   "source": [
    "# co-variance and correlation coeffecient"
   ]
  },
  {
   "cell_type": "code",
   "execution_count": 71,
   "metadata": {},
   "outputs": [
    {
     "name": "stdout",
     "output_type": "stream",
     "text": [
      "cov= 65.2909\n",
      "r= 0.9999997192054609\n",
      "the relation is high\n"
     ]
    }
   ],
   "source": [
    "x=[7,5,8,3,6,10,12,4,9,15,18]\n",
    "y=[21,15,24,9,18,30,36,12,27,45,54]\n",
    "xx=round(np.mean(x),2)\n",
    "yy=round(np.mean(y),2)\n",
    "n=len(x)\n",
    "x1=x-xx\n",
    "y1=y-yy\n",
    "l=range(0,len(x))\n",
    "l2=[]\n",
    "for i in l:\n",
    "    z=x1[i]*y1[i]\n",
    "    l2.append(z)\n",
    "cov=sum(l2)/(n-1)\n",
    "a=sum(x1**2)\n",
    "b=sum(y1**2)\n",
    "sx=(a/(n-1))**.5\n",
    "sy=(b/(n-1))**.5\n",
    "r=cov/(sx*sy)\n",
    "print('cov=',cov)\n",
    "print('r=',r)\n",
    "print('the relation is high')"
   ]
  },
  {
   "cell_type": "code",
   "execution_count": 76,
   "metadata": {},
   "outputs": [
    {
     "data": {
      "text/plain": [
       "1.0"
      ]
     },
     "execution_count": 76,
     "metadata": {},
     "output_type": "execute_result"
    }
   ],
   "source": [
    "#covariance and correlation coeffecient in built\n",
    "np.cov(x,y)[0][1]\n",
    "np.corrcoef(x,y)[0][1]"
   ]
  },
  {
   "cell_type": "code",
   "execution_count": null,
   "metadata": {},
   "outputs": [],
   "source": []
  }
 ],
 "metadata": {
  "kernelspec": {
   "display_name": "Python 3",
   "language": "python",
   "name": "python3"
  },
  "language_info": {
   "codemirror_mode": {
    "name": "ipython",
    "version": 3
   },
   "file_extension": ".py",
   "mimetype": "text/x-python",
   "name": "python",
   "nbconvert_exporter": "python",
   "pygments_lexer": "ipython3",
   "version": "3.7.0"
  }
 },
 "nbformat": 4,
 "nbformat_minor": 2
}
